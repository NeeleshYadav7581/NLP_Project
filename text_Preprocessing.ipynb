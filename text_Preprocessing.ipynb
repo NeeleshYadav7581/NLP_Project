{
 "cells": [
  {
   "cell_type": "code",
   "execution_count": 1,
   "metadata": {},
   "outputs": [],
   "source": [
    "import pandas as pd\n",
    "import numpy as np \n",
    "from textblob import TextBlob\n",
    "from nltk.corpus import stopwords\n",
    "from nltk.stem.porter import PorterStemmer\n",
    "from nltk.stem import WordNetLemmatizer\n",
    "import re\n",
    "import nltk\n",
    "import string\n",
    "import spacy"
   ]
  },
  {
   "cell_type": "code",
   "execution_count": 2,
   "metadata": {},
   "outputs": [
    {
     "name": "stdout",
     "output_type": "stream",
     "text": [
      "                                               review sentiment\n",
      "0   One of the other reviewers has mentioned that ...  positive\n",
      "1   A wonderful little production. <br /><br />The...  positive\n",
      "2   I thought this was a wonderful way to spend ti...  positive\n",
      "3   Basically there's a family where a little boy ...  negative\n",
      "4   Petter Mattei's \"Love in the Time of Money\" is...  positive\n",
      "5   Probably my all-time favorite movie, a story o...  positive\n",
      "6   I sure would like to see a resurrection of a u...  positive\n",
      "7   This show was an amazing, fresh & innovative i...  negative\n",
      "8   Encouraged by the positive comments about this...  negative\n",
      "9   If you like original gut wrenching laughter yo...  positive\n",
      "10  Phil the Alien is one of those quirky films wh...  negative\n",
      "11  I saw this movie when I was about 12 when it c...  negative\n",
      "12  So im not a big fan of Boll's work but then ag...  negative\n",
      "13  The cast played Shakespeare.<br /><br />Shakes...  negative\n",
      "14  This a fantastic movie of three prisoners who ...  positive\n",
      "15  Kind of drawn in by the erotic scenes, only to...  negative\n",
      "16  Some films just simply should not be remade. T...  positive\n",
      "17  This movie made it into one of my top 10 most ...  negative\n",
      "18  I remember this film,it was the first film i h...  positive\n",
      "19  An awful film! It must have been up against so...  negative\n",
      "20  After the success of Die Hard and it's sequels...  positive\n",
      "21  I had the terrible misfortune of having to vie...  negative\n",
      "22  What an absolutely stunning movie, if you have...  positive\n",
      "23  First of all, let's get a few things straight ...  negative\n",
      "24  This was the worst movie I saw at WorldFest an...  negative\n",
      "25  The Karen Carpenter Story shows a little more ...  positive\n",
      "26  \"The Cell\" is an exotic masterpiece, a dizzyin...  positive\n",
      "27  This film tried to be too many things all at o...  negative\n",
      "28  This movie was so frustrating. Everything seem...  negative\n",
      "29  'War movie' is a Hollywood genre that has been...  positive\n",
      "30  Taut and organically gripping, Edward Dmytryk'...  positive\n",
      "31  \"Ardh Satya\" is one of the finest film ever ma...  positive\n",
      "32  My first exposure to the Templarios & not a go...  negative\n",
      "33  One of the most significant quotes from the en...  positive\n",
      "34  I watched this film not really expecting much,...  negative\n",
      "35  I bought this film at Blockbuster for $3.00, b...  negative\n",
      "36  The plot is about the death of little children...  negative\n",
      "37  Ever watched a movie that lost the plot? Well,...  negative\n",
      "38  Okay, so this series kind of takes the route o...  positive\n",
      "39  After sitting through this pile of dung, my hu...  negative\n",
      "40  It had all the clichÃ©s of movies of this type...  negative\n",
      "41  This movie is based on the book, \"A Many Splen...  positive\n",
      "42  Of all the films I have seen, this one, The Ra...  negative\n",
      "43  I had heard good things about \"States of Grace...  negative\n",
      "44  This movie struck home for me. Being 29, I rem...  positive\n",
      "45  As a disclaimer, I've seen the movie 5-6 times...  positive\n",
      "46  Protocol is an implausible movie whose only sa...  negative\n",
      "47  How this film could be classified as Drama, I ...  negative\n",
      "48  Preston Sturgis' THE POWER AND THE GLORY was u...  positive\n"
     ]
    }
   ],
   "source": [
    "dataset = pd.read_excel(\"C:/Users/Admin/Documents/IMDB_Review_2.xlsx\")\n",
    "print(dataset)"
   ]
  },
  {
   "cell_type": "code",
   "execution_count": 3,
   "metadata": {},
   "outputs": [],
   "source": [
    "dataset['review'] = dataset['review'].str.lower()\n",
    "# print(dataset)"
   ]
  },
  {
   "cell_type": "code",
   "execution_count": 4,
   "metadata": {},
   "outputs": [],
   "source": [
    "def remove_htmltag(text):\n",
    "    pattern = re.compile('<.*?>')\n",
    "    return pattern.sub(r'',text)\n",
    "\n",
    "dataset['review'] = dataset['review'].apply(remove_htmltag)\n",
    "# print(dataset)"
   ]
  },
  {
   "cell_type": "code",
   "execution_count": 5,
   "metadata": {},
   "outputs": [],
   "source": [
    "def remove_url(text):\n",
    "    pattern = re.compile(r'https?://\\S+|www\\.\\S+')\n",
    "    return pattern.sub(r'',text)\n",
    "\n",
    "dataset['review'] = dataset['review'].apply(remove_url)\n",
    "# print(dataset)"
   ]
  },
  {
   "cell_type": "code",
   "execution_count": 6,
   "metadata": {
    "scrolled": true
   },
   "outputs": [
    {
     "name": "stdout",
     "output_type": "stream",
     "text": [
      "                                               review sentiment\n",
      "0   one of the other reviewers has mentioned that ...  positive\n",
      "1   a wonderful little production the filming tech...  positive\n",
      "2   i thought this was a wonderful way to spend ti...  positive\n",
      "3   basically theres a family where a little boy j...  negative\n",
      "4   petter matteis love in the time of money is a ...  positive\n",
      "5   probably my alltime favorite movie a story of ...  positive\n",
      "6   i sure would like to see a resurrection of a u...  positive\n",
      "7   this show was an amazing fresh  innovative ide...  negative\n",
      "8   encouraged by the positive comments about this...  negative\n",
      "9   if you like original gut wrenching laughter yo...  positive\n",
      "10  phil the alien is one of those quirky films wh...  negative\n",
      "11  i saw this movie when i was about 12 when it c...  negative\n",
      "12  so im not a big fan of bolls work but then aga...  negative\n",
      "13  the cast played shakespeareshakespeare losti a...  negative\n",
      "14  this a fantastic movie of three prisoners who ...  positive\n",
      "15  kind of drawn in by the erotic scenes only to ...  negative\n",
      "16  some films just simply should not be remade th...  positive\n",
      "17  this movie made it into one of my top 10 most ...  negative\n",
      "18  i remember this filmit was the first film i ha...  positive\n",
      "19  an awful film it must have been up against som...  negative\n",
      "20  after the success of die hard and its sequels ...  positive\n",
      "21  i had the terrible misfortune of having to vie...  negative\n",
      "22  what an absolutely stunning movie if you have ...  positive\n",
      "23  first of all lets get a few things straight he...  negative\n",
      "24  this was the worst movie i saw at worldfest an...  negative\n",
      "25  the karen carpenter story shows a little more ...  positive\n",
      "26  the cell is an exotic masterpiece a dizzying t...  positive\n",
      "27  this film tried to be too many things all at o...  negative\n",
      "28  this movie was so frustrating everything seeme...  negative\n",
      "29  war movie is a hollywood genre that has been d...  positive\n",
      "30  taut and organically gripping edward dmytryks ...  positive\n",
      "31  ardh satya is one of the finest film ever made...  positive\n",
      "32  my first exposure to the templarios  not a goo...  negative\n",
      "33  one of the most significant quotes from the en...  positive\n",
      "34  i watched this film not really expecting much ...  negative\n",
      "35  i bought this film at blockbuster for 300 beca...  negative\n",
      "36  the plot is about the death of little children...  negative\n",
      "37  ever watched a movie that lost the plot well t...  negative\n",
      "38  okay so this series kind of takes the route of...  positive\n",
      "39  after sitting through this pile of dung my hus...  negative\n",
      "40  it had all the clichã©s of movies of this type...  negative\n",
      "41  this movie is based on the book a many splendo...  positive\n",
      "42  of all the films i have seen this one the rage...  negative\n",
      "43  i had heard good things about states of grace ...  negative\n",
      "44  this movie struck home for me being 29 i remem...  positive\n",
      "45  as a disclaimer ive seen the movie 56 times in...  positive\n",
      "46  protocol is an implausible movie whose only sa...  negative\n",
      "47  how this film could be classified as drama i h...  negative\n",
      "48  preston sturgis the power and the glory was un...  positive\n"
     ]
    }
   ],
   "source": [
    "def remove_punctuation(text):\n",
    "    return text.translate(str.maketrans('','', string.punctuation))\n",
    "\n",
    "dataset['review'] = dataset['review'].apply(remove_punctuation)\n",
    "print(dataset)"
   ]
  },
  {
   "cell_type": "code",
   "execution_count": 7,
   "metadata": {
    "scrolled": true
   },
   "outputs": [
    {
     "name": "stdout",
     "output_type": "stream",
     "text": [
      "                                               review sentiment\n",
      "0   one of the other reviews has mentioned that af...  positive\n",
      "1   a wonderful little production the filling tech...  positive\n",
      "2   i thought this was a wonderful way to spend ti...  positive\n",
      "3   basically there a family where a little boy ja...  negative\n",
      "4   letter matters love in the time of money is a ...  positive\n",
      "5   probably my alliee favorite movie a story of h...  positive\n",
      "6   i sure would like to see a resurrection of a u...  positive\n",
      "7   this show was an amazing fresh  innovative ide...  negative\n",
      "8   encouraged by the positive comments about this...  negative\n",
      "9   if you like original gut wrenching laughter yo...  positive\n",
      "10  phil the alien is one of those quickly films w...  negative\n",
      "11  i saw this movie when i was about 12 when it c...  negative\n",
      "12  so in not a big fan of balls work but then aga...  negative\n",
      "13  the cast played shakespeareshakespeare lost ap...  negative\n",
      "14  this a fantastic movie of three prisoners who ...  positive\n",
      "15  kind of drawn in by the exotic scenes only to ...  negative\n",
      "16  some films just simply should not be made this...  positive\n",
      "17  this movie made it into one of my top 10 most ...  negative\n",
      "18  i remember this limit was the first film i had...  positive\n",
      "19  an awful film it must have been up against som...  negative\n",
      "20  after the success of die hard and its sequel i...  positive\n",
      "21  i had the terrible misfortune of having to vie...  negative\n",
      "22  what an absolutely stunning movie if you have ...  positive\n",
      "23  first of all lets get a few things straight he...  negative\n",
      "24  this was the worst movie i saw at worldfest an...  negative\n",
      "25  the aren carpenter story shows a little more a...  positive\n",
      "26  the cell is an exotic masterpiece a dazzling t...  positive\n",
      "27  this film tried to be too many things all at o...  negative\n",
      "28  this movie was so frustration everything seeme...  negative\n",
      "29  war movie is a hollywood gene that has been do...  positive\n",
      "30  taut and organically gripping edward dmytryks ...  positive\n",
      "31  arch satyr is one of the finest film ever made...  positive\n",
      "32  my first exposure to the templarios  not a goo...  negative\n",
      "33  one of the most significant quotes from the en...  positive\n",
      "34  i watched this film not really expecting much ...  negative\n",
      "35  i bought this film at blockbuster for 300 beca...  negative\n",
      "36  the plot is about the death of little children...  negative\n",
      "37  ever watched a movie that lost the plot well t...  negative\n",
      "38  okay so this series kind of takes the route of...  positive\n",
      "39  after sitting through this pile of dung my hus...  negative\n",
      "40  it had all the click©s of moves of this type a...  negative\n",
      "41  this movie is based on the book a many splendo...  positive\n",
      "42  of all the films i have seen this one the rage...  negative\n",
      "43  i had heard good things about states of grace ...  negative\n",
      "44  this movie struck home for me being 29 i remem...  positive\n",
      "45  as a disclaimer give seen the movie 56 times i...  positive\n",
      "46  protocol is an plausible movie whose only savi...  negative\n",
      "47  how this film could be classified as drama i h...  negative\n",
      "48  preston sturgis the power and the glory was un...  positive\n"
     ]
    }
   ],
   "source": [
    "def spellchecker(text):\n",
    "    new_df = TextBlob(text)\n",
    "    return new_df.correct().string\n",
    "\n",
    "dataset['review'] = dataset['review'].apply(spellchecker)\n",
    "print(dataset)"
   ]
  },
  {
   "cell_type": "code",
   "execution_count": 8,
   "metadata": {},
   "outputs": [],
   "source": [
    "# stopwords.words('english')"
   ]
  },
  {
   "cell_type": "code",
   "execution_count": 9,
   "metadata": {
    "scrolled": true
   },
   "outputs": [
    {
     "name": "stdout",
     "output_type": "stream",
     "text": [
      "                                               review sentiment\n",
      "0   one       reviews   mentioned     watching   1...  positive\n",
      "1     wonderful little production   filling techni...  positive\n",
      "2     thought       wonderful way   spend time    ...  positive\n",
      "3   basically     family     little boy jake think...  negative\n",
      "4   letter matters love     time   money     usual...  positive\n",
      "5   probably   alliee favorite movie   story   hel...  positive\n",
      "6     sure would like   see   resurrection       d...  positive\n",
      "7     show     amazing fresh innovative idea      ...  negative\n",
      "8   encouraged     positive comments     film     ...  negative\n",
      "9       like original gut wrenching laughter     l...  positive\n",
      "10  phil   alien   one     quickly films     humou...  negative\n",
      "11    saw   movie         12     came     recall  ...  negative\n",
      "12          big fan   balls work         many     ...  negative\n",
      "13    cast played shakespeareshakespeare lost appr...  negative\n",
      "14      fantastic movie   three prisoners   become...  positive\n",
      "15  kind   drawn       exotic scenes     realize  ...  negative\n",
      "16    films   simply       made     one           ...  positive\n",
      "17    movie made     one     top 10   awful moves ...  negative\n",
      "18    remember   limit     first film     watched ...  positive\n",
      "19    awful film   must           real singers    ...  negative\n",
      "20      success   die hard     sequel     surprise...  positive\n",
      "21        terrible misfortune       view   movie  ...  negative\n",
      "22      absolutely stunning movie       25     kil...  positive\n",
      "23  first     lets get     things straight        ...  negative\n",
      "24        worst movie   saw   worldfest     also r...  negative\n",
      "25      carpenter story shows   little     singer ...  positive\n",
      "26    cell     exotic masterpiece   dazzling trip ...  positive\n",
      "27    film tried       many things       stinging ...  negative\n",
      "28    movie     frustration everything seemed ener...  negative\n",
      "29  war movie     hollywood gene       done   done...  positive\n",
      "30  taut   organically gripping edward dmytryks cr...  positive\n",
      "31  arch satyr   one     finest film ever made   i...  positive\n",
      "32    first exposure     templarios     good one  ...  negative\n",
      "33  one       significant quotes     entire film  ...  positive\n",
      "34    watched   film   really expecting much   got...  negative\n",
      "35    bought   film   blockbuster   300     sounde...  negative\n",
      "36    plot       death   little children copper   ...  negative\n",
      "37  ever watched   movie   lost   plot well     ev...  negative\n",
      "38  okay     series kind   takes   route       go ...  positive\n",
      "39    sitting     pile   dung   husband     wonder...  negative\n",
      "40          click©s   moves     type     substance...  negative\n",
      "41    movie   based     book   many splendor thing...  positive\n",
      "42        films     seen   one   rage   got     on...  negative\n",
      "43      heard good things   states   grace   came ...  negative\n",
      "44    movie struck home       29   remember       ...  positive\n",
      "45      disclaimer give seen   movie 56 times     ...  positive\n",
      "46  protocol     plausible movie whose   saving gr...  negative\n",
      "47      film could   classified   drama       idea...  negative\n",
      "48  preston sturgis   power     glory   unseen    ...  positive\n"
     ]
    }
   ],
   "source": [
    "def remove_stopwords(text):\n",
    "    new_text = []\n",
    "    for word in text.split():\n",
    "        if word in stopwords.words('english'):\n",
    "            new_text.append(\" \")\n",
    "        else:\n",
    "            new_text.append(word)\n",
    "    return ' '.join(new_text)\n",
    "\n",
    "dataset['review'] = dataset['review'].apply(remove_stopwords)\n",
    "print(dataset)"
   ]
  },
  {
   "cell_type": "code",
   "execution_count": 10,
   "metadata": {
    "scrolled": true
   },
   "outputs": [],
   "source": [
    "# def words_token(text):\n",
    "#     token = spacy.load('en_core_web_sm')\n",
    "#     return token(text)\n",
    "\n",
    "# dataset['review'] = dataset['review'].apply(words_token)\n",
    "# print(dataset)"
   ]
  },
  {
   "cell_type": "code",
   "execution_count": 11,
   "metadata": {
    "scrolled": true
   },
   "outputs": [],
   "source": [
    "# def stem_words(text):\n",
    "#     stemmer = PorterStemmer()\n",
    "#     return ' '.join([stemmer.stem(word) for word in text.split()])\n",
    "\n",
    "# dataset['review'] = dataset['review'].apply(stem_words)\n",
    "# print(dataset)"
   ]
  },
  {
   "cell_type": "code",
   "execution_count": 12,
   "metadata": {
    "scrolled": true
   },
   "outputs": [
    {
     "name": "stdout",
     "output_type": "stream",
     "text": [
      "                                               review sentiment\n",
      "0   (one,       , reviews,   , mentioned,     , wa...  positive\n",
      "1   (  , wonderful, little, production,   , fillin...  positive\n",
      "2   (  , thought,       , wonderful, way,   , spen...  positive\n",
      "3   (basically,     , family,     , little, boy, j...  negative\n",
      "4   (letter, matters, love,     , time,   , money,...  positive\n",
      "5   (probably,   , alliee, favorite, movie,   , st...  positive\n",
      "6   (  , sure, would, like,   , see,   , resurrect...  positive\n",
      "7   (  , show,     , amazing, fresh, innovative, i...  negative\n",
      "8   (encouraged,     , positive, comments,     , f...  negative\n",
      "9   (    , like, original, gut, wrenching, laughte...  positive\n",
      "10  (phil,   , alien,   , one,     , quickly, film...  negative\n",
      "11  (  , saw,   , movie,         , 12,     , came,...  negative\n",
      "12  (        , big, fan,   , balls, work,         ...  negative\n",
      "13  (  , cast, played, shakespeareshakespeare, los...  negative\n",
      "14  (    , fantastic, movie,   , three, prisoners,...  positive\n",
      "15  (kind,   , drawn,       , exotic, scenes,     ...  negative\n",
      "16  (  , films,   , simply,       , made,     , on...  positive\n",
      "17  (  , movie, made,     , one,     , top, 10,   ...  negative\n",
      "18  (  , remember,   , limit,     , first, film,  ...  positive\n",
      "19  (  , awful, film,   , must,           , real, ...  negative\n",
      "20  (    , success,   , die, hard,     , sequel,  ...  positive\n",
      "21  (      , terrible, misfortune,       , view,  ...  negative\n",
      "22  (    , absolutely, stunning, movie,       , 25...  positive\n",
      "23  (first,     , lets, get,     , things, straigh...  negative\n",
      "24  (      , worst, movie,   , saw,   , worldfest,...  negative\n",
      "25  (    , carpenter, story, shows,   , little,   ...  positive\n",
      "26  (  , cell,     , exotic, masterpiece,   , dazz...  positive\n",
      "27  (  , film, tried,       , many, things,       ...  negative\n",
      "28  (  , movie,     , frustration, everything, see...  negative\n",
      "29  (war, movie,     , hollywood, gene,       , do...  positive\n",
      "30  (taut,   , organically, gripping, edward, dmyt...  positive\n",
      "31  (arch, satyr,   , one,     , finest, film, eve...  positive\n",
      "32  (  , first, exposure,     , templarios,     , ...  negative\n",
      "33  (one,       , significant, quotes,     , entir...  positive\n",
      "34  (  , watched,   , film,   , really, expecting,...  negative\n",
      "35  (  , bought,   , film,   , blockbuster,   , 30...  negative\n",
      "36  (  , plot,       , death,   , little, children...  negative\n",
      "37  (ever, watched,   , movie,   , lost,   , plot,...  negative\n",
      "38  (okay,     , series, kind,   , takes,   , rout...  positive\n",
      "39  (  , sitting,     , pile,   , dung,   , husban...  negative\n",
      "40  (        , click, ©, s,   , moves,     , type,...  negative\n",
      "41  (  , movie,   , based,     , book,   , many, s...  positive\n",
      "42  (      , films,     , seen,   , one,   , rage,...  negative\n",
      "43  (    , heard, good, things,   , states,   , gr...  negative\n",
      "44  (  , movie, struck, home,       , 29,   , reme...  positive\n",
      "45  (    , disclaimer, give, seen,   , movie, 56, ...  positive\n",
      "46  (protocol,     , plausible, movie, whose,   , ...  negative\n",
      "47  (    , film, could,   , classified,   , drama,...  negative\n",
      "48  (preston, sturgis,   , power,     , glory,   ,...  positive\n"
     ]
    }
   ],
   "source": [
    " def words_token(text):\n",
    "    token = spacy.load('en_core_web_sm')\n",
    "    return token(text)\n",
    "\n",
    "dataset['review'] = dataset['review'].apply(words_token)\n",
    "print(dataset)"
   ]
  },
  {
   "cell_type": "code",
   "execution_count": 14,
   "metadata": {},
   "outputs": [
    {
     "name": "stdout",
     "output_type": "stream",
     "text": [
      "                                               review sentiment\n",
      "0   one         reviews     mention       watch   ...  positive\n",
      "1       wonderful little production     filling te...  positive\n",
      "2       think         wonderful way     spend time...  positive\n",
      "3   basically       family       little boy jake t...  negative\n",
      "4   letter matters love       time     money      ...  positive\n",
      "5   probably     alliee favorite movie     story  ...  positive\n",
      "6       sure would like     see     resurrection  ...  positive\n",
      "7       show       amazing fresh innovative idea  ...  negative\n",
      "8   encourage       positive comments       film  ...  negative\n",
      "9         like original gut wrench laughter       ...  positive\n",
      "10  phil     alien     one       quickly films    ...  negative\n",
      "11      see     movie           12       come     ...  negative\n",
      "12            big fan     balls work           man...  negative\n",
      "13      cast play shakespeareshakespeare lose appr...  negative\n",
      "14        fantastic movie     three prisoners     ...  positive\n",
      "15  kind     draw         exotic scenes       real...  negative\n",
      "16      films     simply         make       one   ...  positive\n",
      "17      movie make       one       top 10     awfu...  negative\n",
      "18      remember     limit       first film       ...  positive\n",
      "19      awful film     must             real singe...  negative\n",
      "20        success     die hard       sequel       ...  positive\n",
      "21          terrible misfortune         view     m...  negative\n",
      "22        absolutely stunning movie         25    ...  positive\n",
      "23  first       lets get       things straight    ...  negative\n",
      "24          worst movie     see     worldfest     ...  negative\n",
      "25        carpenter story show     little       si...  positive\n",
      "26      cell       exotic masterpiece     dazzle t...  positive\n",
      "27      film try         many things         ste p...  negative\n",
      "28      movie       frustration everything seem en...  negative\n",
      "29  war movie       hollywood gene         do     ...  positive\n",
      "30  taut     organically grip edward dmytryks cros...  positive\n",
      "31  arch satyr     one       finest film ever make...  positive\n",
      "32      first exposure       templarios       good...  negative\n",
      "33  one         significant quotes       entire fi...  positive\n",
      "34      watch     film     really expect much     ...  negative\n",
      "35      buy     film     blockbuster     300      ...  negative\n",
      "36      plot         death     little children cop...  negative\n",
      "37  ever watch     movie     lose     plot well   ...  negative\n",
      "38  okay       series kind     take     route     ...  positive\n",
      "39      sit       pile     dung     husband       ...  negative\n",
      "40            click © s     moves       type      ...  negative\n",
      "41      movie     base       book     many splendo...  positive\n",
      "42          films       see     one     rage     g...  negative\n",
      "43        hear good things     state     grace    ...  negative\n",
      "44      movie strike home         29     remember ...  positive\n",
      "45        disclaimer give see     movie 56 times  ...  positive\n",
      "46  protocol       plausible movie whose     save ...  negative\n",
      "47        film could     classify     drama       ...  negative\n",
      "48  preston sturgis     power       glory     unse...  positive\n"
     ]
    }
   ],
   "source": [
    "nlp = spacy.load(\"en_core_web_sm\")\n",
    "\n",
    "def lemma(text):\n",
    "    doc = nlp(text)\n",
    "    lemmatized_tokens = [] \n",
    "    for token in doc:\n",
    "        if token.pos_ == \"VERB\":\n",
    "            lemmatized_tokens.append(token.lemma_)\n",
    "        else:\n",
    "            lemmatized_tokens.append(token.text)\n",
    "    return \" \".join(lemmatized_tokens)\n",
    "\n",
    "dataset['review'] = dataset['review'].apply(lemma)\n",
    "print(dataset)\n",
    "    "
   ]
  },
  {
   "cell_type": "code",
   "execution_count": null,
   "metadata": {},
   "outputs": [],
   "source": []
  }
 ],
 "metadata": {
  "kernelspec": {
   "display_name": "Python 3 (ipykernel)",
   "language": "python",
   "name": "python3"
  },
  "language_info": {
   "codemirror_mode": {
    "name": "ipython",
    "version": 3
   },
   "file_extension": ".py",
   "mimetype": "text/x-python",
   "name": "python",
   "nbconvert_exporter": "python",
   "pygments_lexer": "ipython3",
   "version": "3.11.3"
  }
 },
 "nbformat": 4,
 "nbformat_minor": 2
}
