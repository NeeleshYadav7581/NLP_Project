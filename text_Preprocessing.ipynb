{
 "cells": [
  {
   "cell_type": "markdown",
   "metadata": {},
   "source": [
    "####  Import Required libraries"
   ]
  },
  {
   "cell_type": "code",
   "execution_count": 1,
   "metadata": {},
   "outputs": [],
   "source": [
    "import pandas as pd\n",
    "import numpy as np \n",
    "from textblob import TextBlob\n",
    "from nltk.corpus import stopwords\n",
    "from nltk.stem.porter import PorterStemmer\n",
    "from nltk.stem import WordNetLemmatizer\n",
    "import re\n",
    "import nltk\n",
    "import string\n",
    "import spacy"
   ]
  },
  {
   "cell_type": "markdown",
   "metadata": {},
   "source": [
    "#### Loading a Dataset "
   ]
  },
  {
   "cell_type": "code",
   "execution_count": 2,
   "metadata": {
    "collapsed": true
   },
   "outputs": [
    {
     "name": "stdout",
     "output_type": "stream",
     "text": [
      "                                               review sentiment\n",
      "0   One of the other reviewers has mentioned that ...  positive\n",
      "1   A wonderful little production. <br /><br />The...  positive\n",
      "2   I thought this was a wonderful way to spend ti...  positive\n",
      "3   Basically there's a family where a little boy ...  negative\n",
      "4   Petter Mattei's \"Love in the Time of Money\" is...  positive\n",
      "5   Probably my all-time favorite movie, a story o...  positive\n",
      "6   I sure would like to see a resurrection of a u...  positive\n",
      "7   This show was an amazing, fresh & innovative i...  negative\n",
      "8   Encouraged by the positive comments about this...  negative\n",
      "9   If you like original gut wrenching laughter yo...  positive\n",
      "10  Phil the Alien is one of those quirky films wh...  negative\n",
      "11  I saw this movie when I was about 12 when it c...  negative\n",
      "12  So im not a big fan of Boll's work but then ag...  negative\n",
      "13  The cast played Shakespeare.<br /><br />Shakes...  negative\n",
      "14  This a fantastic movie of three prisoners who ...  positive\n",
      "15  Kind of drawn in by the erotic scenes, only to...  negative\n",
      "16  Some films just simply should not be remade. T...  positive\n",
      "17  This movie made it into one of my top 10 most ...  negative\n",
      "18  I remember this film,it was the first film i h...  positive\n",
      "19  An awful film! It must have been up against so...  negative\n",
      "20  After the success of Die Hard and it's sequels...  positive\n",
      "21  I had the terrible misfortune of having to vie...  negative\n",
      "22  What an absolutely stunning movie, if you have...  positive\n",
      "23  First of all, let's get a few things straight ...  negative\n",
      "24  This was the worst movie I saw at WorldFest an...  negative\n",
      "25  The Karen Carpenter Story shows a little more ...  positive\n",
      "26  \"The Cell\" is an exotic masterpiece, a dizzyin...  positive\n",
      "27  This film tried to be too many things all at o...  negative\n",
      "28  This movie was so frustrating. Everything seem...  negative\n",
      "29  'War movie' is a Hollywood genre that has been...  positive\n",
      "30  Taut and organically gripping, Edward Dmytryk'...  positive\n",
      "31  \"Ardh Satya\" is one of the finest film ever ma...  positive\n",
      "32  My first exposure to the Templarios & not a go...  negative\n",
      "33  One of the most significant quotes from the en...  positive\n",
      "34  I watched this film not really expecting much,...  negative\n",
      "35  I bought this film at Blockbuster for $3.00, b...  negative\n",
      "36  The plot is about the death of little children...  negative\n",
      "37  Ever watched a movie that lost the plot? Well,...  negative\n",
      "38  Okay, so this series kind of takes the route o...  positive\n",
      "39  After sitting through this pile of dung, my hu...  negative\n",
      "40  It had all the clichés of movies of this type ...  negative\n",
      "41  This movie is based on the book, \"A Many Splen...  positive\n",
      "42  Of all the films I have seen, this one, The Ra...  negative\n",
      "43  I had heard good things about \"States of Grace...  negative\n",
      "44  This movie struck home for me. Being 29, I rem...  positive\n",
      "45  As a disclaimer, I've seen the movie 5-6 times...  positive\n",
      "46  Protocol is an implausible movie whose only sa...  negative\n",
      "47  How this film could be classified as Drama, I ...  negative\n",
      "48  Preston Sturgis' THE POWER AND THE GLORY was u...  positive\n",
      "49  Average (and surprisingly tame) Fulci giallo w...  negative\n"
     ]
    }
   ],
   "source": [
    "dataset = pd.read_csv(\"C:/Users/Admin/NLP_Project/Movies_review_dataset/IMDB Dataset.csv\")\n",
    "dataset = dataset.iloc[:50]\n",
    "print(dataset)"
   ]
  },
  {
   "cell_type": "markdown",
   "metadata": {},
   "source": [
    "#### Convert Uper case into lower case of dataset"
   ]
  },
  {
   "cell_type": "code",
   "execution_count": 3,
   "metadata": {},
   "outputs": [],
   "source": [
    "dataset['review'] = dataset['review'].str.lower()\n",
    "# print(dataset)"
   ]
  },
  {
   "cell_type": "markdown",
   "metadata": {},
   "source": [
    "#### Remove HTML tags from text data ( Review column )"
   ]
  },
  {
   "cell_type": "code",
   "execution_count": 4,
   "metadata": {},
   "outputs": [],
   "source": [
    "def remove_htmltag(text):\n",
    "    pattern = re.compile('<.*?>')\n",
    "    return pattern.sub(r'',text)\n",
    "\n",
    "dataset['review'] = dataset['review'].apply(remove_htmltag)\n",
    "# print(dataset)"
   ]
  },
  {
   "cell_type": "markdown",
   "metadata": {},
   "source": [
    "#### Remove URLS or URLS tags from text data ( Review column )"
   ]
  },
  {
   "cell_type": "code",
   "execution_count": 5,
   "metadata": {},
   "outputs": [],
   "source": [
    "def remove_url(text):\n",
    "    pattern = re.compile(r'https?://\\S+|www\\.\\S+')\n",
    "    return pattern.sub(r'',text)\n",
    "\n",
    "dataset['review'] = dataset['review'].apply(remove_url)\n",
    "# print(dataset)"
   ]
  },
  {
   "cell_type": "markdown",
   "metadata": {},
   "source": [
    "#### Remove Puntuation from text data ( Review column ) "
   ]
  },
  {
   "cell_type": "code",
   "execution_count": 6,
   "metadata": {
    "collapsed": true
   },
   "outputs": [
    {
     "name": "stdout",
     "output_type": "stream",
     "text": [
      "                                               review sentiment\n",
      "0   one of the other reviewers has mentioned that ...  positive\n",
      "1   a wonderful little production the filming tech...  positive\n",
      "2   i thought this was a wonderful way to spend ti...  positive\n",
      "3   basically theres a family where a little boy j...  negative\n",
      "4   petter matteis love in the time of money is a ...  positive\n",
      "5   probably my alltime favorite movie a story of ...  positive\n",
      "6   i sure would like to see a resurrection of a u...  positive\n",
      "7   this show was an amazing fresh  innovative ide...  negative\n",
      "8   encouraged by the positive comments about this...  negative\n",
      "9   if you like original gut wrenching laughter yo...  positive\n",
      "10  phil the alien is one of those quirky films wh...  negative\n",
      "11  i saw this movie when i was about 12 when it c...  negative\n",
      "12  so im not a big fan of bolls work but then aga...  negative\n",
      "13  the cast played shakespeareshakespeare losti a...  negative\n",
      "14  this a fantastic movie of three prisoners who ...  positive\n",
      "15  kind of drawn in by the erotic scenes only to ...  negative\n",
      "16  some films just simply should not be remade th...  positive\n",
      "17  this movie made it into one of my top 10 most ...  negative\n",
      "18  i remember this filmit was the first film i ha...  positive\n",
      "19  an awful film it must have been up against som...  negative\n",
      "20  after the success of die hard and its sequels ...  positive\n",
      "21  i had the terrible misfortune of having to vie...  negative\n",
      "22  what an absolutely stunning movie if you have ...  positive\n",
      "23  first of all lets get a few things straight he...  negative\n",
      "24  this was the worst movie i saw at worldfest an...  negative\n",
      "25  the karen carpenter story shows a little more ...  positive\n",
      "26  the cell is an exotic masterpiece a dizzying t...  positive\n",
      "27  this film tried to be too many things all at o...  negative\n",
      "28  this movie was so frustrating everything seeme...  negative\n",
      "29  war movie is a hollywood genre that has been d...  positive\n",
      "30  taut and organically gripping edward dmytryks ...  positive\n",
      "31  ardh satya is one of the finest film ever made...  positive\n",
      "32  my first exposure to the templarios  not a goo...  negative\n",
      "33  one of the most significant quotes from the en...  positive\n",
      "34  i watched this film not really expecting much ...  negative\n",
      "35  i bought this film at blockbuster for 300 beca...  negative\n",
      "36  the plot is about the death of little children...  negative\n",
      "37  ever watched a movie that lost the plot well t...  negative\n",
      "38  okay so this series kind of takes the route of...  positive\n",
      "39  after sitting through this pile of dung my hus...  negative\n",
      "40  it had all the clichés of movies of this type ...  negative\n",
      "41  this movie is based on the book a many splendo...  positive\n",
      "42  of all the films i have seen this one the rage...  negative\n",
      "43  i had heard good things about states of grace ...  negative\n",
      "44  this movie struck home for me being 29 i remem...  positive\n",
      "45  as a disclaimer ive seen the movie 56 times in...  positive\n",
      "46  protocol is an implausible movie whose only sa...  negative\n",
      "47  how this film could be classified as drama i h...  negative\n",
      "48  preston sturgis the power and the glory was un...  positive\n",
      "49  average and surprisingly tame fulci giallo whi...  negative\n"
     ]
    }
   ],
   "source": [
    "def remove_punctuation(text):\n",
    "    return text.translate(str.maketrans('','', string.punctuation))\n",
    "\n",
    "dataset['review'] = dataset['review'].apply(remove_punctuation)\n",
    "print(dataset)"
   ]
  },
  {
   "cell_type": "code",
   "execution_count": 7,
   "metadata": {
    "collapsed": true
   },
   "outputs": [
    {
     "name": "stdout",
     "output_type": "stream",
     "text": [
      "                                               review sentiment\n",
      "0   one of the other reviews has mentioned that af...  positive\n",
      "1   a wonderful little production the filling tech...  positive\n",
      "2   i thought this was a wonderful way to spend ti...  positive\n",
      "3   basically there a family where a little boy ja...  negative\n",
      "4   letter matters love in the time of money is a ...  positive\n",
      "5   probably my alliee favorite movie a story of h...  positive\n",
      "6   i sure would like to see a resurrection of a u...  positive\n",
      "7   this show was an amazing fresh  innovative ide...  negative\n",
      "8   encouraged by the positive comments about this...  negative\n",
      "9   if you like original gut wrenching laughter yo...  positive\n",
      "10  phil the alien is one of those quickly films w...  negative\n",
      "11  i saw this movie when i was about 12 when it c...  negative\n",
      "12  so in not a big fan of balls work but then aga...  negative\n",
      "13  the cast played shakespeareshakespeare lost ap...  negative\n",
      "14  this a fantastic movie of three prisoners who ...  positive\n",
      "15  kind of drawn in by the exotic scenes only to ...  negative\n",
      "16  some films just simply should not be made this...  positive\n",
      "17  this movie made it into one of my top 10 most ...  negative\n",
      "18  i remember this limit was the first film i had...  positive\n",
      "19  an awful film it must have been up against som...  negative\n",
      "20  after the success of die hard and its sequel i...  positive\n",
      "21  i had the terrible misfortune of having to vie...  negative\n",
      "22  what an absolutely stunning movie if you have ...  positive\n",
      "23  first of all lets get a few things straight he...  negative\n",
      "24  this was the worst movie i saw at worldfest an...  negative\n",
      "25  the aren carpenter story shows a little more a...  positive\n",
      "26  the cell is an exotic masterpiece a dazzling t...  positive\n",
      "27  this film tried to be too many things all at o...  negative\n",
      "28  this movie was so frustration everything seeme...  negative\n",
      "29  war movie is a hollywood gene that has been do...  positive\n",
      "30  taut and organically gripping edward dmytryks ...  positive\n",
      "31  arch satyr is one of the finest film ever made...  positive\n",
      "32  my first exposure to the templarios  not a goo...  negative\n",
      "33  one of the most significant quotes from the en...  positive\n",
      "34  i watched this film not really expecting much ...  negative\n",
      "35  i bought this film at blockbuster for 300 beca...  negative\n",
      "36  the plot is about the death of little children...  negative\n",
      "37  ever watched a movie that lost the plot well t...  negative\n",
      "38  okay so this series kind of takes the route of...  positive\n",
      "39  after sitting through this pile of dung my hus...  negative\n",
      "40  it had all the clichés of moves of this type a...  negative\n",
      "41  this movie is based on the book a many splendo...  positive\n",
      "42  of all the films i have seen this one the rage...  negative\n",
      "43  i had heard good things about states of grace ...  negative\n",
      "44  this movie struck home for me being 29 i remem...  positive\n",
      "45  as a disclaimer give seen the movie 56 times i...  positive\n",
      "46  protocol is an plausible movie whose only savi...  negative\n",
      "47  how this film could be classified as drama i h...  negative\n",
      "48  preston sturgis the power and the glory was un...  positive\n",
      "49  average and surprisingly tame full gallop whic...  negative\n"
     ]
    }
   ],
   "source": [
    "def spellchecker(text):\n",
    "    new_df = TextBlob(text)\n",
    "    return new_df.correct().string\n",
    "\n",
    "dataset['review'] = dataset['review'].apply(spellchecker)\n",
    "print(dataset)"
   ]
  },
  {
   "cell_type": "code",
   "execution_count": 8,
   "metadata": {},
   "outputs": [],
   "source": [
    "# stopwords.words('english')"
   ]
  },
  {
   "cell_type": "code",
   "execution_count": 9,
   "metadata": {
    "collapsed": true
   },
   "outputs": [
    {
     "name": "stdout",
     "output_type": "stream",
     "text": [
      "                                               review sentiment\n",
      "0   one       reviews   mentioned     watching   1...  positive\n",
      "1     wonderful little production   filling techni...  positive\n",
      "2     thought       wonderful way   spend time    ...  positive\n",
      "3   basically     family     little boy jake think...  negative\n",
      "4   letter matters love     time   money     usual...  positive\n",
      "5   probably   alliee favorite movie   story   hel...  positive\n",
      "6     sure would like   see   resurrection       d...  positive\n",
      "7     show     amazing fresh innovative idea      ...  negative\n",
      "8   encouraged     positive comments     film     ...  negative\n",
      "9       like original gut wrenching laughter     l...  positive\n",
      "10  phil   alien   one     quickly films     humou...  negative\n",
      "11    saw   movie         12     came     recall  ...  negative\n",
      "12          big fan   balls work         many     ...  negative\n",
      "13    cast played shakespeareshakespeare lost appr...  negative\n",
      "14      fantastic movie   three prisoners   become...  positive\n",
      "15  kind   drawn       exotic scenes     realize  ...  negative\n",
      "16    films   simply       made     one           ...  positive\n",
      "17    movie made     one     top 10   awful moves ...  negative\n",
      "18    remember   limit     first film     watched ...  positive\n",
      "19    awful film   must           real singers    ...  negative\n",
      "20      success   die hard     sequel     surprise...  positive\n",
      "21        terrible misfortune       view   movie  ...  negative\n",
      "22      absolutely stunning movie       25     kil...  positive\n",
      "23  first     lets get     things straight        ...  negative\n",
      "24        worst movie   saw   worldfest     also r...  negative\n",
      "25      carpenter story shows   little     singer ...  positive\n",
      "26    cell     exotic masterpiece   dazzling trip ...  positive\n",
      "27    film tried       many things       stinging ...  negative\n",
      "28    movie     frustration everything seemed ener...  negative\n",
      "29  war movie     hollywood gene       done   done...  positive\n",
      "30  taut   organically gripping edward dmytryks cr...  positive\n",
      "31  arch satyr   one     finest film ever made   i...  positive\n",
      "32    first exposure     templarios     good one  ...  negative\n",
      "33  one       significant quotes     entire film  ...  positive\n",
      "34    watched   film   really expecting much   got...  negative\n",
      "35    bought   film   blockbuster   300     sounde...  negative\n",
      "36    plot       death   little children copper   ...  negative\n",
      "37  ever watched   movie   lost   plot well     ev...  negative\n",
      "38  okay     series kind   takes   route       go ...  positive\n",
      "39    sitting     pile   dung   husband     wonder...  negative\n",
      "40          clichés   moves     type     substance...  negative\n",
      "41    movie   based     book   many splendor thing...  positive\n",
      "42        films     seen   one   rage   got     on...  negative\n",
      "43      heard good things   states   grace   came ...  negative\n",
      "44    movie struck home       29   remember       ...  positive\n",
      "45      disclaimer give seen   movie 56 times     ...  positive\n",
      "46  protocol     plausible movie whose   saving gr...  negative\n",
      "47      film could   classified   drama       idea...  negative\n",
      "48  preston sturgis   power     glory   unseen    ...  positive\n",
      "49  average   surprisingly tame full gallop   mean...  negative\n"
     ]
    }
   ],
   "source": [
    "def remove_stopwords(text):\n",
    "    new_text = []\n",
    "    for word in text.split():\n",
    "        if word in stopwords.words('english'):\n",
    "            new_text.append(\" \")\n",
    "        else:\n",
    "            new_text.append(word)\n",
    "    return ' '.join(new_text)\n",
    "\n",
    "dataset['review'] = dataset['review'].apply(remove_stopwords)\n",
    "print(dataset)"
   ]
  },
  {
   "cell_type": "code",
   "execution_count": 10,
   "metadata": {
    "scrolled": true
   },
   "outputs": [],
   "source": [
    "# def words_token(text):\n",
    "#     token = spacy.load('en_core_web_sm')\n",
    "#     return token(text)\n",
    "\n",
    "# dataset['review'] = dataset['review'].apply(words_token)\n",
    "# print(dataset)"
   ]
  },
  {
   "cell_type": "code",
   "execution_count": 11,
   "metadata": {
    "collapsed": true
   },
   "outputs": [
    {
     "name": "stdout",
     "output_type": "stream",
     "text": [
      "                                               review sentiment\n",
      "0   one review mention watch 1 oz episod hook righ...  positive\n",
      "1   wonder littl product fill techniqu assum oldti...  positive\n",
      "2   thought wonder way spend time hot summer weeke...  positive\n",
      "3   basic famili littl boy jake think combin close...  negative\n",
      "4   letter matter love time money usual stun film ...  positive\n",
      "5   probabl allie favorit movi stori helpless sacr...  positive\n",
      "6   sure would like see resurrect date seahunt ser...  positive\n",
      "7   show amaz fresh innov idea first tire first 7 ...  negative\n",
      "8   encourag posit comment film look forward watch...  negative\n",
      "9   like origin gut wrench laughter like movi youn...  positive\n",
      "10  phil alien one quickli film humour base around...  negative\n",
      "11  saw movi 12 came recal cari scene big bird eat...  negative\n",
      "12  big fan ball work mani enjoy movi postal mayb ...  negative\n",
      "13  cast play shakespeareshakespear lost appreci t...  negative\n",
      "14  fantast movi three prison becom famou one acto...  positive\n",
      "15  kind drawn exot scene realiz one amateurish un...  negative\n",
      "16  film simpli made one bad film fail captur flav...  positive\n",
      "17  movi made one top 10 aw move horribl want cont...  negative\n",
      "18  rememb limit first film watch cinema pictur da...  positive\n",
      "19  aw film must real singer nomin golden globe ta...  negative\n",
      "20  success die hard sequel surpris realli 1990 gu...  positive\n",
      "21  terribl misfortun view movi entiretyal say sav...  negative\n",
      "22  absolut stun movi 25 kill watch wont regret mu...  positive\n",
      "23  first let get thing straight aim fan alway mat...  negative\n",
      "24  worst movi saw worldfest also receiv least amo...  negative\n",
      "25  carpent stori show littl singer carpent comple...  positive\n",
      "26  cell exot masterpiec dazzl trip vast mind aeri...  positive\n",
      "27  film tri mani thing sting polit satir hollywoo...  negative\n",
      "28  movi frustrat everyth seem energet total prepa...  negative\n",
      "29  war movi hollywood gene done done mani time cl...  positive\n",
      "30  taut organ grip edward dmytryk crossfir distin...  positive\n",
      "31  arch satyr one finest film ever made indian ci...  positive\n",
      "32  first exposur templario good one excit find ti...  negative\n",
      "33  one signific quot entir film pronounc halfway ...  positive\n",
      "34  watch film realli expect much got pack 5 film ...  negative\n",
      "35  bought film blockbust 300 sound interest bit r...  negative\n",
      "36  plot death littl children copper one investig ...  negative\n",
      "37  ever watch movi lost plot well even realli one...  negative\n",
      "38  okay seri kind take rout go week week david ho...  positive\n",
      "39  sit pile dung husband wonder whether actual pr...  negative\n",
      "40  cliché move type substanc plot went nowher end...  negative\n",
      "41  movi base book mani splendor thing skin tackl ...  positive\n",
      "42  film seen one rage got one worst yet direct lo...  negative\n",
      "43  heard good thing state grace came open mind th...  negative\n",
      "44  movi struck home 29 rememb father work factori...  positive\n",
      "45  disclaim give seen movi 56 time last 15 year s...  positive\n",
      "46  protocol plausibl movi whose save grace star s...  negative\n",
      "47  film could classifi drama idea john vight mari...  negative\n",
      "48  preston sturgi power glori unseen public nearl...  positive\n",
      "49  averag surprisingli tame full gallop mean stil...  negative\n"
     ]
    }
   ],
   "source": [
    "def stem_words(text):\n",
    "    stemmer = PorterStemmer()\n",
    "    return ' '.join([stemmer.stem(word) for word in text.split()])\n",
    "\n",
    "dataset['review'] = dataset['review'].apply(stem_words)\n",
    "print(dataset)"
   ]
  },
  {
   "cell_type": "code",
   "execution_count": 12,
   "metadata": {
    "collapsed": true
   },
   "outputs": [
    {
     "name": "stdout",
     "output_type": "stream",
     "text": [
      "                                               review sentiment\n",
      "0   (one, review, mention, watch, 1, oz, episod, h...  positive\n",
      "1   (wonder, littl, product, fill, techniqu, assum...  positive\n",
      "2   (thought, wonder, way, spend, time, hot, summe...  positive\n",
      "3   (basic, famili, littl, boy, jake, think, combi...  negative\n",
      "4   (letter, matter, love, time, money, usual, stu...  positive\n",
      "5   (probabl, allie, favorit, movi, stori, helples...  positive\n",
      "6   (sure, would, like, see, resurrect, date, seah...  positive\n",
      "7   (show, amaz, fresh, innov, idea, first, tire, ...  negative\n",
      "8   (encourag, posit, comment, film, look, forward...  negative\n",
      "9   (like, origin, gut, wrench, laughter, like, mo...  positive\n",
      "10  (phil, alien, one, quickli, film, humour, base...  negative\n",
      "11  (saw, movi, 12, came, recal, cari, scene, big,...  negative\n",
      "12  (big, fan, ball, work, mani, enjoy, movi, post...  negative\n",
      "13  (cast, play, shakespeareshakespear, lost, appr...  negative\n",
      "14  (fantast, movi, three, prison, becom, famou, o...  positive\n",
      "15  (kind, drawn, exot, scene, realiz, one, amateu...  negative\n",
      "16  (film, simpli, made, one, bad, film, fail, cap...  positive\n",
      "17  (movi, made, one, top, 10, aw, move, horribl, ...  negative\n",
      "18  (rememb, limit, first, film, watch, cinema, pi...  positive\n",
      "19  (aw, film, must, real, singer, nomin, golden, ...  negative\n",
      "20  (success, die, hard, sequel, surpris, realli, ...  positive\n",
      "21  (terribl, misfortun, view, movi, entiretyal, s...  negative\n",
      "22  (absolut, stun, movi, 25, kill, watch, wo, nt,...  positive\n",
      "23  (first, let, get, thing, straight, aim, fan, a...  negative\n",
      "24  (worst, movi, saw, worldfest, also, receiv, le...  negative\n",
      "25  (carpent, stori, show, littl, singer, carpent,...  positive\n",
      "26  (cell, exot, masterpiec, dazzl, trip, vast, mi...  positive\n",
      "27  (film, tri, mani, thing, sting, polit, satir, ...  negative\n",
      "28  (movi, frustrat, everyth, seem, energet, total...  negative\n",
      "29  (war, movi, hollywood, gene, done, done, mani,...  positive\n",
      "30  (taut, organ, grip, edward, dmytryk, crossfir,...  positive\n",
      "31  (arch, satyr, one, finest, film, ever, made, i...  positive\n",
      "32  (first, exposur, templario, good, one, excit, ...  negative\n",
      "33  (one, signific, quot, entir, film, pronounc, h...  positive\n",
      "34  (watch, film, realli, expect, much, got, pack,...  negative\n",
      "35  (bought, film, blockbust, 300, sound, interest...  negative\n",
      "36  (plot, death, littl, children, copper, one, in...  negative\n",
      "37  (ever, watch, movi, lost, plot, well, even, re...  negative\n",
      "38  (okay, seri, kind, take, rout, go, week, week,...  positive\n",
      "39  (sit, pile, dung, husband, wonder, whether, ac...  negative\n",
      "40  (cliché, move, type, substanc, plot, went, now...  negative\n",
      "41  (movi, base, book, mani, splendor, thing, skin...  positive\n",
      "42  (film, seen, one, rage, got, one, worst, yet, ...  negative\n",
      "43  (heard, good, thing, state, grace, came, open,...  negative\n",
      "44  (movi, struck, home, 29, rememb, father, work,...  positive\n",
      "45  (disclaim, give, seen, movi, 56, time, last, 1...  positive\n",
      "46  (protocol, plausibl, movi, whose, save, grace,...  negative\n",
      "47  (film, could, classifi, drama, idea, john, vig...  negative\n",
      "48  (preston, sturgi, power, glori, unseen, public...  positive\n",
      "49  (averag, surprisingli, tame, full, gallop, mea...  negative\n"
     ]
    }
   ],
   "source": [
    "def words_token(text):\n",
    "    token = spacy.load('en_core_web_sm')\n",
    "    return token(text)\n",
    "\n",
    "dataset['review'] = dataset['review'].apply(words_token)\n",
    "print(dataset)"
   ]
  },
  {
   "cell_type": "code",
   "execution_count": 13,
   "metadata": {
    "collapsed": true
   },
   "outputs": [
    {
     "name": "stdout",
     "output_type": "stream",
     "text": [
      "                                               review sentiment\n",
      "0   one review mention watch 1 oz episod hook righ...  positive\n",
      "1   wonder littl product fill techniqu assum oldti...  positive\n",
      "2   think wonder way spend time hot summer weekend...  positive\n",
      "3   basic famili littl boy jake think combin close...  negative\n",
      "4   letter matter love time money usual stun film ...  positive\n",
      "5   probabl allie favorit movi stori helpless sacr...  positive\n",
      "6   sure would like see resurrect date seahunt ser...  positive\n",
      "7   show amaz fresh innov idea first tire first 7 ...  negative\n",
      "8   encourag posit comment film look forward watch...  negative\n",
      "9   like origin gut wrench laughter like movi youn...  positive\n",
      "10  phil alien one quickli film humour base around...  negative\n",
      "11  see movi 12 come recal cari scene big bird eat...  negative\n",
      "12  big fan ball work mani enjoy movi postal mayb ...  negative\n",
      "13  cast play shakespeareshakespear lose appreci t...  negative\n",
      "14  fantast movi three prison becom famou one acto...  positive\n",
      "15  kind draw exot scene realiz one amateurish unb...  negative\n",
      "16  film simpli make one bad film fail captur flav...  positive\n",
      "17  movi make one top 10 aw move horribl want cont...  negative\n",
      "18  rememb limit first film watch cinema pictur da...  positive\n",
      "19  aw film must real singer nomin golden globe ta...  negative\n",
      "20  success die hard sequel surpris realli 1990 gu...  positive\n",
      "21  terribl misfortun view movi entiretyal say sav...  negative\n",
      "22  absolut stun movi 25 kill watch wo nt regret m...  positive\n",
      "23  first let get thing straight aim fan alway mat...  negative\n",
      "24  worst movi see worldfest also receiv least amo...  negative\n",
      "25  carpent stori show littl singer carpent comple...  positive\n",
      "26  cell exot masterpiec dazzl trip vast mind aeri...  positive\n",
      "27  film tri mani thing sting polit satir hollywoo...  negative\n",
      "28  movi frustrat everyth seem energet total prepa...  negative\n",
      "29  war movi hollywood gene done do mani time clic...  positive\n",
      "30  taut organ grip edward dmytryk crossfir distin...  positive\n",
      "31  arch satyr one finest film ever make indian ci...  positive\n",
      "32  first exposur templario good one excit find ti...  negative\n",
      "33  one signific quot entir film pronounc halfway ...  positive\n",
      "34  watch film realli expect much get pack 5 film ...  negative\n",
      "35  buy film blockbust 300 sound interest bit ranm...  negative\n",
      "36  plot death littl children copper one investig ...  negative\n",
      "37  ever watch movi lose plot well even realli one...  negative\n",
      "38  okay seri kind take rout go week week david ho...  positive\n",
      "39  sit pile dung husband wonder whether actual pr...  negative\n",
      "40  cliché move type substanc plot go nowher end m...  negative\n",
      "41  movi base book mani splendor thing skin tackl ...  positive\n",
      "42  film see one rage get one worst yet direct log...  negative\n",
      "43  hear good thing state grace come open mind thi...  negative\n",
      "44  movi strike home 29 rememb father work factori...  positive\n",
      "45  disclaim give see movi 56 time last 15 year se...  positive\n",
      "46  protocol plausibl movi whose save grace star s...  negative\n",
      "47  film could classifi drama idea john vight mari...  negative\n",
      "48  preston sturgi power glori unseen public nearl...  positive\n",
      "49  averag surprisingli tame full gallop mean stil...  negative\n"
     ]
    }
   ],
   "source": [
    "nlp = spacy.load(\"en_core_web_sm\")\n",
    "\n",
    "def lemma(text):\n",
    "    doc = nlp(text)\n",
    "    lemmatized_tokens = [] \n",
    "    for token in doc:\n",
    "        if token.pos_ == \"VERB\":\n",
    "            lemmatized_tokens.append(token.lemma_)\n",
    "        else:\n",
    "            lemmatized_tokens.append(token.text)\n",
    "    return \" \".join(lemmatized_tokens)\n",
    "\n",
    "dataset['review'] = dataset['review'].apply(lemma)\n",
    "print(dataset)\n",
    "    "
   ]
  },
  {
   "cell_type": "code",
   "execution_count": 14,
   "metadata": {},
   "outputs": [],
   "source": [
    "from sklearn.preprocessing import OneHotEncoder\n",
    "enc = OneHotEncoder()"
   ]
  },
  {
   "cell_type": "code",
   "execution_count": 15,
   "metadata": {},
   "outputs": [
    {
     "name": "stdout",
     "output_type": "stream",
     "text": [
      "[[0. 0. 0. ... 0. 0. 0.]\n",
      " [0. 0. 0. ... 0. 1. 0.]\n",
      " [0. 0. 0. ... 0. 0. 0.]\n",
      " ...\n",
      " [0. 0. 0. ... 0. 0. 0.]\n",
      " [0. 0. 0. ... 0. 0. 0.]\n",
      " [0. 0. 1. ... 0. 0. 0.]]\n"
     ]
    }
   ],
   "source": [
    "enc = enc.fit_transform(dataset[['review']]).toarray()\n",
    "print(enc)"
   ]
  },
  {
   "cell_type": "code",
   "execution_count": 16,
   "metadata": {},
   "outputs": [],
   "source": [
    "# from sklearn.feature_extraction.text import CountVectorizer\n",
    "# cv = CountVectorizer(ngram_range=(1,3))"
   ]
  },
  {
   "cell_type": "code",
   "execution_count": 17,
   "metadata": {},
   "outputs": [],
   "source": [
    "# new = cv.fit_transform(dataset['review'])\n",
    "# print(new)"
   ]
  },
  {
   "cell_type": "code",
   "execution_count": 18,
   "metadata": {},
   "outputs": [],
   "source": [
    "# print(cv.vocabulary_)"
   ]
  },
  {
   "cell_type": "code",
   "execution_count": 19,
   "metadata": {},
   "outputs": [],
   "source": [
    "# print(new[0:].toarray())"
   ]
  },
  {
   "cell_type": "code",
   "execution_count": 20,
   "metadata": {},
   "outputs": [],
   "source": [
    "# from sklearn.feature_extraction.text import TfidfVectorizer\n",
    "# tfidf = TfidfVectorizer()\n",
    "# tfidf.fit_transform(dataset['review']).toarray()"
   ]
  },
  {
   "cell_type": "code",
   "execution_count": 21,
   "metadata": {},
   "outputs": [],
   "source": [
    "# print(tfidf.idf_)\n",
    "# print(tfidf.get_feature_names_out())"
   ]
  },
  {
   "cell_type": "code",
   "execution_count": null,
   "metadata": {},
   "outputs": [],
   "source": []
  }
 ],
 "metadata": {
  "kernelspec": {
   "display_name": "Python 3 (ipykernel)",
   "language": "python",
   "name": "python3"
  },
  "language_info": {
   "codemirror_mode": {
    "name": "ipython",
    "version": 3
   },
   "file_extension": ".py",
   "mimetype": "text/x-python",
   "name": "python",
   "nbconvert_exporter": "python",
   "pygments_lexer": "ipython3",
   "version": "3.11.3"
  }
 },
 "nbformat": 4,
 "nbformat_minor": 2
}
