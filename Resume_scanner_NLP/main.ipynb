{
 "cells": [
  {
   "cell_type": "code",
   "execution_count": 10,
   "metadata": {},
   "outputs": [],
   "source": [
    "from pypdf import PdfReader"
   ]
  },
  {
   "cell_type": "code",
   "execution_count": 11,
   "metadata": {},
   "outputs": [],
   "source": [
    "reader = PdfReader(\"Resume.pdf\")\n",
    "text = \"\"\n",
    "for page in reader.pages:\n",
    "    text += page.extract_text() + \"\\n\""
   ]
  },
  {
   "cell_type": "code",
   "execution_count": 12,
   "metadata": {},
   "outputs": [],
   "source": [
    "reader = PdfReader(\"Job description.pdf\")\n",
    "descr = \"\"\n",
    "for page in reader.pages:\n",
    "    descr += page.extract_text() + \"\\n\""
   ]
  },
  {
   "cell_type": "code",
   "execution_count": 13,
   "metadata": {},
   "outputs": [
    {
     "name": "stdout",
     "output_type": "stream",
     "text": [
      "Machine Learning Engineering\n",
      "13585ABC\n",
      "Knowledge and Innovation \n",
      "What you’ll do\n",
      "You will focus on researching, building, and designing\n",
      "self-running artificial intelligence (AI)\n",
      "systems to automate predictive models. You are responsible\n",
      "to design and create the AI\n",
      "algorithms capable of learning and making predictions\n",
      "that define machine learning (ML).\n",
      "Experience and qualifications\n",
      "●\n",
      "Bachelor's or Master's degree (mention the course\n",
      "as per requirement)\n",
      "●\n",
      "0-2 years of work experience providing analytics solutions\n",
      "in a commercial setting\n",
      "Technical expertise\n",
      "Must have\n",
      "●\n",
      "Machine Learning, Clustering, Logistic Regression,\n",
      "Classification\n",
      "●\n",
      "Different libraries such as SciKit Learn, NumPy, Pandas,\n",
      "Matplotlib, Seaborn\n",
      "●\n",
      "Deep learning frameworks such as Tensorflow, Keras,\n",
      "PyTorch and application of Neural\n",
      "Networks and models. CNN, RNN, GANs\n",
      "●\n",
      "Familiar with Natural Language Processing and associated\n",
      "libraries like NLTK, SpaCy,\n",
      "Beautiful Soup\n",
      "●\n",
      "PySpark, Hadoop, and Big Data Pipelines\n",
      "●\n",
      "Data science methodology from exploratory data analysis,\n",
      "feature engineering, model\n",
      "selection, deployment of the model at scale, and model\n",
      "evaluation\n",
      "●\n",
      "Deploying NLP architectures and Computer Vision Models\n",
      "in production\n",
      "Considered as a plus\n",
      "●\n",
      "Transformers and other advance techniques in NLP\n",
      "●\n",
      "Familiar with Computer Vision models and object detection,\n",
      "OCR, OpenCV\n",
      "●\n",
      "Analytical Tools as it will reduce any medium for\n",
      "data transfers\n",
      "●\n",
      "Web frameworks like Django and databases like MongoDB, NoSQL, GraphQL\n",
      "●\n",
      "SQL, Firebase, AWS, Azure, Google Cloud Platform \n",
      "Your job type\n",
      "Full time\n",
      "\n"
     ]
    }
   ],
   "source": [
    "print(descr)"
   ]
  },
  {
   "cell_type": "code",
   "execution_count": 14,
   "metadata": {},
   "outputs": [],
   "source": [
    "df = [ text, descr]"
   ]
  },
  {
   "cell_type": "code",
   "execution_count": 15,
   "metadata": {},
   "outputs": [],
   "source": [
    "from sklearn.feature_extraction.text import CountVectorizer\n",
    "cv = CountVectorizer()\n",
    "matrix = cv.fit_transform(df)"
   ]
  },
  {
   "cell_type": "code",
   "execution_count": 16,
   "metadata": {},
   "outputs": [],
   "source": [
    "from sklearn.metrics.pairwise import cosine_similarity\n",
    "similarity_matrix = cosine_similarity(matrix)"
   ]
  },
  {
   "cell_type": "code",
   "execution_count": 17,
   "metadata": {},
   "outputs": [
    {
     "name": "stdout",
     "output_type": "stream",
     "text": [
      "[[1.         0.56515863]\n",
      " [0.56515863 1.        ]]\n"
     ]
    }
   ],
   "source": [
    "print(similarity_matrix)"
   ]
  },
  {
   "cell_type": "code",
   "execution_count": 18,
   "metadata": {},
   "outputs": [
    {
     "name": "stdout",
     "output_type": "stream",
     "text": [
      "Resume matched :- 56.51586325365612%\n"
     ]
    }
   ],
   "source": [
    "print(\"Resume matched :- \" + str(similarity_matrix[1][0]*100)+'%' )"
   ]
  }
 ],
 "metadata": {
  "kernelspec": {
   "display_name": "b4",
   "language": "python",
   "name": "python3"
  },
  "language_info": {
   "codemirror_mode": {
    "name": "ipython",
    "version": 3
   },
   "file_extension": ".py",
   "mimetype": "text/x-python",
   "name": "python",
   "nbconvert_exporter": "python",
   "pygments_lexer": "ipython3",
   "version": "3.11.3"
  },
  "orig_nbformat": 4
 },
 "nbformat": 4,
 "nbformat_minor": 2
}
