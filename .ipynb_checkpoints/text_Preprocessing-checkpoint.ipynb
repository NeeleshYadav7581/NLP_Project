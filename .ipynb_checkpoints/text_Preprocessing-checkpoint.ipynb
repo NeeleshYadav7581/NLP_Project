{
 "cells": [
  {
   "cell_type": "code",
   "execution_count": 1,
   "metadata": {},
   "outputs": [],
   "source": [
    "import pandas as pd\n",
    "import numpy as np \n",
    "from textblob import TextBlob\n",
    "from nltk.corpus import stopwords\n",
    "from nltk.stem.porter import PorterStemmer\n",
    "import re\n",
    "import nltk\n",
    "import string\n",
    "import spacy"
   ]
  },
  {
   "cell_type": "code",
   "execution_count": 2,
   "metadata": {},
   "outputs": [
    {
     "name": "stdout",
     "output_type": "stream",
     "text": [
      "                                               review sentiment\n",
      "0   One of the other reviewers has mentioned that ...  positive\n",
      "1   A wonderful little production. <br /><br />The...  positive\n",
      "2   I thought this was a wonderful way to spend ti...  positive\n",
      "3   Basically there's a family where a little boy ...  negative\n",
      "4   Petter Mattei's \"Love in the Time of Money\" is...  positive\n",
      "5   Probably my all-time favorite movie, a story o...  positive\n",
      "6   I sure would like to see a resurrection of a u...  positive\n",
      "7   This show was an amazing, fresh & innovative i...  negative\n",
      "8   Encouraged by the positive comments about this...  negative\n",
      "9   If you like original gut wrenching laughter yo...  positive\n",
      "10  Phil the Alien is one of those quirky films wh...  negative\n",
      "11  I saw this movie when I was about 12 when it c...  negative\n",
      "12  So im not a big fan of Boll's work but then ag...  negative\n",
      "13  The cast played Shakespeare.<br /><br />Shakes...  negative\n",
      "14  This a fantastic movie of three prisoners who ...  positive\n",
      "15  Kind of drawn in by the erotic scenes, only to...  negative\n",
      "16  Some films just simply should not be remade. T...  positive\n",
      "17  This movie made it into one of my top 10 most ...  negative\n",
      "18  I remember this film,it was the first film i h...  positive\n",
      "19  An awful film! It must have been up against so...  negative\n",
      "20  After the success of Die Hard and it's sequels...  positive\n",
      "21  I had the terrible misfortune of having to vie...  negative\n",
      "22  What an absolutely stunning movie, if you have...  positive\n",
      "23  First of all, let's get a few things straight ...  negative\n",
      "24  This was the worst movie I saw at WorldFest an...  negative\n",
      "25  The Karen Carpenter Story shows a little more ...  positive\n",
      "26  \"The Cell\" is an exotic masterpiece, a dizzyin...  positive\n",
      "27  This film tried to be too many things all at o...  negative\n",
      "28  This movie was so frustrating. Everything seem...  negative\n",
      "29  'War movie' is a Hollywood genre that has been...  positive\n",
      "30  Taut and organically gripping, Edward Dmytryk'...  positive\n",
      "31  \"Ardh Satya\" is one of the finest film ever ma...  positive\n",
      "32  My first exposure to the Templarios & not a go...  negative\n",
      "33  One of the most significant quotes from the en...  positive\n",
      "34  I watched this film not really expecting much,...  negative\n",
      "35  I bought this film at Blockbuster for $3.00, b...  negative\n",
      "36  The plot is about the death of little children...  negative\n",
      "37  Ever watched a movie that lost the plot? Well,...  negative\n",
      "38  Okay, so this series kind of takes the route o...  positive\n",
      "39  After sitting through this pile of dung, my hu...  negative\n",
      "40  It had all the clichÃ©s of movies of this type...  negative\n",
      "41  This movie is based on the book, \"A Many Splen...  positive\n",
      "42  Of all the films I have seen, this one, The Ra...  negative\n",
      "43  I had heard good things about \"States of Grace...  negative\n",
      "44  This movie struck home for me. Being 29, I rem...  positive\n",
      "45  As a disclaimer, I've seen the movie 5-6 times...  positive\n",
      "46  Protocol is an implausible movie whose only sa...  negative\n",
      "47  How this film could be classified as Drama, I ...  negative\n",
      "48  Preston Sturgis' THE POWER AND THE GLORY was u...  positive\n"
     ]
    }
   ],
   "source": [
    "dataset = pd.read_excel(\"C:/Users/Admin/Documents/IMDB_Review_2.xlsx\")\n",
    "print(dataset)"
   ]
  },
  {
   "cell_type": "code",
   "execution_count": 3,
   "metadata": {},
   "outputs": [],
   "source": [
    "dataset['review'] = dataset['review'].str.lower()\n",
    "# print(dataset)"
   ]
  },
  {
   "cell_type": "code",
   "execution_count": 4,
   "metadata": {},
   "outputs": [],
   "source": [
    "def remove_htmltag(text):\n",
    "    pattern = re.compile('<.*?>')\n",
    "    return pattern.sub(r'',text)\n",
    "\n",
    "dataset['review'] = dataset['review'].apply(remove_htmltag)\n",
    "# print(dataset)"
   ]
  },
  {
   "cell_type": "code",
   "execution_count": 5,
   "metadata": {},
   "outputs": [],
   "source": [
    "def remove_url(text):\n",
    "    pattern = re.compile(r'https?://\\S+|www\\.\\S+')\n",
    "    return pattern.sub(r'',text)\n",
    "\n",
    "dataset['review'] = dataset['review'].apply(remove_url)\n",
    "# print(dataset)"
   ]
  },
  {
   "cell_type": "code",
   "execution_count": 6,
   "metadata": {
    "scrolled": true
   },
   "outputs": [
    {
     "data": {
      "text/plain": [
       "0     one of the other reviewers has mentioned that ...\n",
       "1     a wonderful little production the filming tech...\n",
       "2     i thought this was a wonderful way to spend ti...\n",
       "3     basically theres a family where a little boy j...\n",
       "4     petter matteis love in the time of money is a ...\n",
       "5     probably my alltime favorite movie a story of ...\n",
       "6     i sure would like to see a resurrection of a u...\n",
       "7     this show was an amazing fresh  innovative ide...\n",
       "8     encouraged by the positive comments about this...\n",
       "9     if you like original gut wrenching laughter yo...\n",
       "10    phil the alien is one of those quirky films wh...\n",
       "11    i saw this movie when i was about 12 when it c...\n",
       "12    so im not a big fan of bolls work but then aga...\n",
       "13    the cast played shakespeareshakespeare losti a...\n",
       "14    this a fantastic movie of three prisoners who ...\n",
       "15    kind of drawn in by the erotic scenes only to ...\n",
       "16    some films just simply should not be remade th...\n",
       "17    this movie made it into one of my top 10 most ...\n",
       "18    i remember this filmit was the first film i ha...\n",
       "19    an awful film it must have been up against som...\n",
       "20    after the success of die hard and its sequels ...\n",
       "21    i had the terrible misfortune of having to vie...\n",
       "22    what an absolutely stunning movie if you have ...\n",
       "23    first of all lets get a few things straight he...\n",
       "24    this was the worst movie i saw at worldfest an...\n",
       "25    the karen carpenter story shows a little more ...\n",
       "26    the cell is an exotic masterpiece a dizzying t...\n",
       "27    this film tried to be too many things all at o...\n",
       "28    this movie was so frustrating everything seeme...\n",
       "29    war movie is a hollywood genre that has been d...\n",
       "30    taut and organically gripping edward dmytryks ...\n",
       "31    ardh satya is one of the finest film ever made...\n",
       "32    my first exposure to the templarios  not a goo...\n",
       "33    one of the most significant quotes from the en...\n",
       "34    i watched this film not really expecting much ...\n",
       "35    i bought this film at blockbuster for 300 beca...\n",
       "36    the plot is about the death of little children...\n",
       "37    ever watched a movie that lost the plot well t...\n",
       "38    okay so this series kind of takes the route of...\n",
       "39    after sitting through this pile of dung my hus...\n",
       "40    it had all the clichã©s of movies of this type...\n",
       "41    this movie is based on the book a many splendo...\n",
       "42    of all the films i have seen this one the rage...\n",
       "43    i had heard good things about states of grace ...\n",
       "44    this movie struck home for me being 29 i remem...\n",
       "45    as a disclaimer ive seen the movie 56 times in...\n",
       "46    protocol is an implausible movie whose only sa...\n",
       "47    how this film could be classified as drama i h...\n",
       "48    preston sturgis the power and the glory was un...\n",
       "Name: review, dtype: object"
      ]
     },
     "execution_count": 6,
     "metadata": {},
     "output_type": "execute_result"
    }
   ],
   "source": [
    "def remove_punctuation(text):\n",
    "    return text.translate(str.maketrans('','', string.punctuation))\n",
    "\n",
    "dataset['review'].apply(remove_punctuation)"
   ]
  },
  {
   "cell_type": "code",
   "execution_count": null,
   "metadata": {},
   "outputs": [],
   "source": [
    "def spellchecker(text):\n",
    "    new_df = TextBlob(text)\n",
    "    return new_df.correct().string\n",
    "\n",
    "dataset['review'] = dataset['review'].apply(spellchecker)\n",
    "print(dataset)"
   ]
  },
  {
   "cell_type": "code",
   "execution_count": 7,
   "metadata": {},
   "outputs": [],
   "source": [
    "# stopwords.words('english')"
   ]
  },
  {
   "cell_type": "code",
   "execution_count": null,
   "metadata": {},
   "outputs": [],
   "source": [
    "def remove_stopwords(text):\n",
    "    new_text = []\n",
    "    for word in text.split():\n",
    "        if word in stopwords.words('english'):\n",
    "            new_text.append(\" \")\n",
    "        else:\n",
    "            new_text.append(word)\n",
    "    return ' '.join(new_text)\n",
    "\n",
    "dataset['review'] = dataset['review'].apply(remove_stopwords)\n",
    "print(dataset)"
   ]
  },
  {
   "cell_type": "code",
   "execution_count": null,
   "metadata": {},
   "outputs": [],
   "source": [
    "def words_token(text):\n",
    "    token = spacy.load('en_core_web_sm')\n",
    "    return token(text)\n",
    "\n",
    "dataset['review'] = dataset['review'].apply(words_token)\n",
    "print(dataset)"
   ]
  },
  {
   "cell_type": "code",
   "execution_count": 160,
   "metadata": {},
   "outputs": [],
   "source": [
    "# \n",
    "# def stem_words(text):\n",
    "    # ps = PorterStemmer()\n",
    "#     return ' '.join([ps.stem(word) for word in text.split()])\n",
    "\n",
    "# dataset['review'].apply(stem_words)\n",
    "# print(dataset)\n",
    "\n",
    "def stem_words(text):\n",
    "    stemmer = PorterStemmer()\n",
    "    return ' '.join([stemmer.stem(word) for word in text.split()])\n",
    "\n",
    "# dataset['review_stemmed'] = dataset['review'].apply(stem_words)\n",
    "# print(dataset)"
   ]
  },
  {
   "cell_type": "code",
   "execution_count": null,
   "metadata": {},
   "outputs": [],
   "source": [
    "for i in dataset['review']:\n",
    "    print(i)"
   ]
  },
  {
   "cell_type": "code",
   "execution_count": null,
   "metadata": {},
   "outputs": [],
   "source": [
    "\n",
    "\n",
    "def stem_words(text):\n",
    "    stemmer = PorterStemmer()\n",
    "    return ' '.join([stemmer.stem(word) for word in text.split()])\n",
    "\n",
    "dataset['review_stemmed'] = dataset['review'].apply(stem_words)\n",
    "print(dataset)\n"
   ]
  },
  {
   "cell_type": "code",
   "execution_count": 164,
   "metadata": {},
   "outputs": [
    {
     "name": "stderr",
     "output_type": "stream",
     "text": [
      "[nltk_data] Downloading package punkt to\n",
      "[nltk_data]     C:\\Users\\Admin\\AppData\\Roaming\\nltk_data...\n",
      "[nltk_data]   Package punkt is already up-to-date!\n"
     ]
    },
    {
     "name": "stdout",
     "output_type": "stream",
     "text": [
      "                                               review sentiment   \n",
      "0   One of the other reviewers has mentioned that ...  positive  \\\n",
      "1   A wonderful little production. <br /><br />The...  positive   \n",
      "2   I thought this was a wonderful way to spend ti...  positive   \n",
      "3   Basically there's a family where a little boy ...  negative   \n",
      "4   Petter Mattei's \"Love in the Time of Money\" is...  positive   \n",
      "5   Probably my all-time favorite movie, a story o...  positive   \n",
      "6   I sure would like to see a resurrection of a u...  positive   \n",
      "7   This show was an amazing, fresh & innovative i...  negative   \n",
      "8   Encouraged by the positive comments about this...  negative   \n",
      "9   If you like original gut wrenching laughter yo...  positive   \n",
      "10  Phil the Alien is one of those quirky films wh...  negative   \n",
      "11  I saw this movie when I was about 12 when it c...  negative   \n",
      "12  So im not a big fan of Boll's work but then ag...  negative   \n",
      "13  The cast played Shakespeare.<br /><br />Shakes...  negative   \n",
      "14  This a fantastic movie of three prisoners who ...  positive   \n",
      "15  Kind of drawn in by the erotic scenes, only to...  negative   \n",
      "16  Some films just simply should not be remade. T...  positive   \n",
      "17  This movie made it into one of my top 10 most ...  negative   \n",
      "18  I remember this film,it was the first film i h...  positive   \n",
      "19  An awful film! It must have been up against so...  negative   \n",
      "20  After the success of Die Hard and it's sequels...  positive   \n",
      "21  I had the terrible misfortune of having to vie...  negative   \n",
      "22  What an absolutely stunning movie, if you have...  positive   \n",
      "23  First of all, let's get a few things straight ...  negative   \n",
      "24  This was the worst movie I saw at WorldFest an...  negative   \n",
      "25  The Karen Carpenter Story shows a little more ...  positive   \n",
      "26  \"The Cell\" is an exotic masterpiece, a dizzyin...  positive   \n",
      "27  This film tried to be too many things all at o...  negative   \n",
      "28  This movie was so frustrating. Everything seem...  negative   \n",
      "29  'War movie' is a Hollywood genre that has been...  positive   \n",
      "30  Taut and organically gripping, Edward Dmytryk'...  positive   \n",
      "31  \"Ardh Satya\" is one of the finest film ever ma...  positive   \n",
      "32  My first exposure to the Templarios & not a go...  negative   \n",
      "33  One of the most significant quotes from the en...  positive   \n",
      "34  I watched this film not really expecting much,...  negative   \n",
      "35  I bought this film at Blockbuster for $3.00, b...  negative   \n",
      "36  The plot is about the death of little children...  negative   \n",
      "37  Ever watched a movie that lost the plot? Well,...  negative   \n",
      "38  Okay, so this series kind of takes the route o...  positive   \n",
      "39  After sitting through this pile of dung, my hu...  negative   \n",
      "40  It had all the clichÃ©s of movies of this type...  negative   \n",
      "41  This movie is based on the book, \"A Many Splen...  positive   \n",
      "42  Of all the films I have seen, this one, The Ra...  negative   \n",
      "43  I had heard good things about \"States of Grace...  negative   \n",
      "44  This movie struck home for me. Being 29, I rem...  positive   \n",
      "45  As a disclaimer, I've seen the movie 5-6 times...  positive   \n",
      "46  Protocol is an implausible movie whose only sa...  negative   \n",
      "47  How this film could be classified as Drama, I ...  negative   \n",
      "48  Preston Sturgis' THE POWER AND THE GLORY was u...  positive   \n",
      "\n",
      "                                       stemmed_review  \n",
      "0   one of the other review ha mention that after ...  \n",
      "1   a wonder littl product . < br / > < br / > the...  \n",
      "2   i thought thi wa a wonder way to spend time on...  \n",
      "3   basic there 's a famili where a littl boy ( ja...  \n",
      "4   petter mattei 's `` love in the time of money ...  \n",
      "5   probabl my all-tim favorit movi , a stori of s...  \n",
      "6   i sure would like to see a resurrect of a up d...  \n",
      "7   thi show wa an amaz , fresh & innov idea in th...  \n",
      "8   encourag by the posit comment about thi film o...  \n",
      "9   if you like origin gut wrench laughter you wil...  \n",
      "10  phil the alien is one of those quirki film whe...  \n",
      "11  i saw thi movi when i wa about 12 when it came...  \n",
      "12  so im not a big fan of boll 's work but then a...  \n",
      "13  the cast play shakespeare. < br / > < br / > s...  \n",
      "14  thi a fantast movi of three prison who becom f...  \n",
      "15  kind of drawn in by the erot scene , onli to r...  \n",
      "16  some film just simpli should not be remad . th...  \n",
      "17  thi movi made it into one of my top 10 most aw...  \n",
      "18  i rememb thi film , it wa the first film i had...  \n",
      "19  an aw film ! it must have been up against some...  \n",
      "20  after the success of die hard and it 's sequel...  \n",
      "21  i had the terribl misfortun of have to view th...  \n",
      "22  what an absolut stun movi , if you have 2.5 hr...  \n",
      "23  first of all , let 's get a few thing straight...  \n",
      "24  thi wa the worst movi i saw at worldfest and i...  \n",
      "25  the karen carpent stori show a littl more abou...  \n",
      "26  `` the cell '' is an exot masterpiec , a dizzi...  \n",
      "27  thi film tri to be too mani thing all at onc :...  \n",
      "28  thi movi wa so frustrat . everyth seem energet...  \n",
      "29  'war movi ' is a hollywood genr that ha been d...  \n",
      "30  taut and organ grip , edward dmytryk 's crossf...  \n",
      "31  `` ardh satya '' is one of the finest film eve...  \n",
      "32  my first exposur to the templario & not a good...  \n",
      "33  one of the most signific quot from the entir f...  \n",
      "34  i watch thi film not realli expect much , i go...  \n",
      "35  i bought thi film at blockbust for $ 3.00 , be...  \n",
      "36  the plot is about the death of littl children ...  \n",
      "37  ever watch a movi that lost the plot ? well , ...  \n",
      "38  okay , so thi seri kind of take the rout of 'h...  \n",
      "39  after sit through thi pile of dung , my husban...  \n",
      "40  it had all the clichã© of movi of thi type and...  \n",
      "41  thi movi is base on the book , `` a mani splen...  \n",
      "42  of all the film i have seen , thi one , the ra...  \n",
      "43  i had heard good thing about `` state of grace...  \n",
      "44  thi movi struck home for me . be 29 , i rememb...  \n",
      "45  as a disclaim , i 've seen the movi 5-6 time i...  \n",
      "46  protocol is an implaus movi whose onli save gr...  \n",
      "47  how thi film could be classifi as drama , i ha...  \n",
      "48  preston sturgi ' the power and the glori wa un...  \n"
     ]
    }
   ],
   "source": [
    "import nltk\n",
    "from nltk.stem import PorterStemmer\n",
    "from nltk.tokenize import word_tokenize\n",
    "import pandas as pd\n",
    "\n",
    "# Download NLTK resources (only need to run this once)\n",
    "nltk.download('punkt')\n",
    "\n",
    "# Initialize the stemmer\n",
    "stemmer = PorterStemmer()\n",
    "\n",
    "# Load your dataset\n",
    "# Replace 'path_to_csv' with the actual path to your CSV file\n",
    "movies_df = pd.read_excel(\"C:/Users/Admin/Documents/IMDB_Review_2.xlsx\")\n",
    "\n",
    "# Function to apply stemming to a text\n",
    "def stem_text(text):\n",
    "    words = word_tokenize(text)  # Tokenize the text into words\n",
    "    stemmed_words = [stemmer.stem(word) for word in words]  # Apply stemming to each word\n",
    "    return ' '.join(stemmed_words)  # Join the stemmed words back into a sentence\n",
    "\n",
    "# Apply stemming to the 'review' column\n",
    "movies_df['stemmed_review'] = movies_df['review'].apply(stem_text)\n",
    "\n",
    "# Save the modified DataFrame if needed\n",
    "# movies_df.to_csv('path_to_save_csv', index=False)\n",
    "\n",
    "# Print the modified DataFrame\n",
    "print(movies_df)\n"
   ]
  }
 ],
 "metadata": {
  "kernelspec": {
   "display_name": "Python 3 (ipykernel)",
   "language": "python",
   "name": "python3"
  },
  "language_info": {
   "codemirror_mode": {
    "name": "ipython",
    "version": 3
   },
   "file_extension": ".py",
   "mimetype": "text/x-python",
   "name": "python",
   "nbconvert_exporter": "python",
   "pygments_lexer": "ipython3",
   "version": "3.11.3"
  }
 },
 "nbformat": 4,
 "nbformat_minor": 2
}
