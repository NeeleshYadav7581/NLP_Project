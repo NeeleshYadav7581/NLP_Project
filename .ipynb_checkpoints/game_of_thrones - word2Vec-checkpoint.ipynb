{
 "cells": [
  {
   "cell_type": "code",
   "execution_count": null,
   "metadata": {},
   "outputs": [],
   "source": [
    "import pandas as pd\n",
    "import numpy as np \n",
    "from nltk.corpus import stopwords\n",
    "from nltk import sent_tokenize, word_tokenize\n",
    "import gensim\n",
    "import string\n",
    "import os\n",
    "from gensim.utils import simple_preprocess"
   ]
  },
  {
   "cell_type": "code",
   "execution_count": null,
   "metadata": {},
   "outputs": [],
   "source": [
    "# from nltk import sent_tokenize\n",
    "# import gensim\n",
    "# import os\n",
    "# from gensim.utils import simple_preprocess\n",
    "# en_stops = set(stopwords.words('english'))\n",
    "# story = []\n",
    "# for file in os.listdir('Books'):\n",
    "#     new_file = open(os.path.join('Books', file), encoding='latin-1')\n",
    "#     corpus = new_file.read()\n",
    "#     token = sent_tokenize(corpus)\n",
    "#     for sent in token:\n",
    "#         story.append(simple_preprocess(sent))"
   ]
  },
  {
   "cell_type": "code",
   "execution_count": null,
   "metadata": {},
   "outputs": [],
   "source": [
    "en_stops = set(stopwords.words('english'))\n",
    "\n",
    "story = []\n",
    "\n",
    "for file in os.listdir('Books'):\n",
    "    new_file = open(os.path.join('Books', file), encoding='latin-1')\n",
    "    corpus = new_file.read()\n",
    "    story.append(corpus)\n",
    "    # sentences = sent_tokenize(corpus)\n",
    "    # for sent in sentences:\n",
    "    #     words = word_tokenize(sent)\n",
    "    #     # filtered_words = [word for word in words if word.lower() not in en_stops]\n",
    "    #     filtered_words = [word.lower() for word in words if word.lower() not in en_stops and word.lower() not in string.punctuation]\n",
    "    #     story.append(filtered_words)"
   ]
  },
  {
   "cell_type": "code",
   "execution_count": null,
   "metadata": {},
   "outputs": [],
   "source": [
    "print(story)"
   ]
  },
  {
   "cell_type": "code",
   "execution_count": null,
   "metadata": {},
   "outputs": [],
   "source": [
    "new = [x.lower() for x in story]"
   ]
  }
 ],
 "metadata": {
  "kernelspec": {
   "display_name": "Python 3 (ipykernel)",
   "language": "python",
   "name": "python3"
  },
  "language_info": {
   "codemirror_mode": {
    "name": "ipython",
    "version": 3
   },
   "file_extension": ".py",
   "mimetype": "text/x-python",
   "name": "python",
   "nbconvert_exporter": "python",
   "pygments_lexer": "ipython3",
   "version": "3.11.3"
  }
 },
 "nbformat": 4,
 "nbformat_minor": 2
}
